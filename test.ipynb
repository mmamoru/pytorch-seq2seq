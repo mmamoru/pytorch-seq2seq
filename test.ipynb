{
 "cells": [
  {
   "cell_type": "code",
   "execution_count": 9,
   "metadata": {},
   "outputs": [],
   "source": [
    "import torch\n",
    "import os\n",
    "\n",
    "corpus_name = 'cornell movie-dialogs corpus'\n",
    "corpus = os.path.join('./data', corpus_name)"
   ]
  },
  {
   "cell_type": "code",
   "execution_count": 2,
   "metadata": {},
   "outputs": [
    {
     "name": "stdout",
     "output_type": "stream",
     "text": [
      "./data/cornell movie-dialogs corpus\n"
     ]
    }
   ],
   "source": [
    "print(corpus)"
   ]
  },
  {
   "cell_type": "code",
   "execution_count": 3,
   "metadata": {},
   "outputs": [],
   "source": [
    "def printLines(file, n=10):\n",
    "    with open(file, 'rb') as datafile:\n",
    "        lines = datafile.readlines()\n",
    "    for line in lines[:n]:\n",
    "        print(line)"
   ]
  },
  {
   "cell_type": "code",
   "execution_count": 4,
   "metadata": {},
   "outputs": [
    {
     "name": "stdout",
     "output_type": "stream",
     "text": [
      "\n",
      "Sample lines from file:\n",
      "b\"Can we make this quick?  Roxanne Korrine and Andrew Barrett are having an incredibly horrendous public break- up on the quad.  Again.\\tWell, I thought we'd start with pronunciation, if that's okay with you.\\n\"\n",
      "b\"Well, I thought we'd start with pronunciation, if that's okay with you.\\tNot the hacking and gagging and spitting part.  Please.\\n\"\n",
      "b\"Not the hacking and gagging and spitting part.  Please.\\tOkay... then how 'bout we try out some French cuisine.  Saturday?  Night?\\n\"\n",
      "b\"You're asking me out.  That's so cute. What's your name again?\\tForget it.\\n\"\n",
      "b\"No, no, it's my fault -- we didn't have a proper introduction ---\\tCameron.\\n\"\n",
      "b\"Cameron.\\tThe thing is, Cameron -- I'm at the mercy of a particularly hideous breed of loser.  My sister.  I can't date until she does.\\n\"\n",
      "b\"The thing is, Cameron -- I'm at the mercy of a particularly hideous breed of loser.  My sister.  I can't date until she does.\\tSeems like she could get a date easy enough...\\n\"\n",
      "b'Why?\\tUnsolved mystery.  She used to be really popular when she started high school, then it was just like she got sick of it or something.\\n'\n",
      "b\"Unsolved mystery.  She used to be really popular when she started high school, then it was just like she got sick of it or something.\\tThat's a shame.\\n\"\n",
      "b'Gosh, if only we could find Kat a boyfriend...\\tLet me see what I can do.\\n'\n"
     ]
    }
   ],
   "source": [
    "# Define path to new file\n",
    "datafile = os.path.join(corpus, \"formatted_movie_lines.txt\")\n",
    "# Print a sample of lines\n",
    "print(\"\\nSample lines from file:\")\n",
    "printLines(datafile)"
   ]
  },
  {
   "cell_type": "code",
   "execution_count": 5,
   "metadata": {},
   "outputs": [],
   "source": [
    "PAD_token = 0  # Used for padding short sentences\n",
    "SOS_token = 1  # Start-of-sentence token\n",
    "EOS_token = 2  # End-of-sentence token\n",
    "\n",
    "\n",
    "class Voc:\n",
    "    def __init__(self, name):\n",
    "        self.name = name\n",
    "        self.trimmed = False\n",
    "        self.word2index = {}\n",
    "        self.word2count = {}\n",
    "        self.index2word = {PAD_token: \"PAD\", SOS_token: \"SOS\", EOS_token: \"EOS\"}\n",
    "        self.num_words = 3  # Count SOS, EOS, PAD\n",
    "\n",
    "    def addSentence(self, sentence):\n",
    "        for word in sentence.split(' '):\n",
    "            self.addWord(word)\n",
    "\n",
    "    def addWord(self, word):\n",
    "        if word not in self.word2index:\n",
    "            self.word2index[word] = self.num_words\n",
    "            self.word2count[word] = 1\n",
    "            self.index2word[self.num_words] = word\n",
    "            self.num_words += 1\n",
    "        else:\n",
    "            self.word2count[word] += 1\n",
    "\n",
    "    # Remove words below a certain count threshold\n",
    "    def trim(self, min_count):\n",
    "        if self.trimmed:\n",
    "            return\n",
    "        self.trimmed = True\n",
    "\n",
    "        keep_words = []\n",
    "\n",
    "        for k, v in self.word2count.items():\n",
    "            if v >= min_count:\n",
    "                keep_words.append(k)\n",
    "\n",
    "        print('keep_words {} / {} = {:.4f}'.format(\n",
    "            len(keep_words), len(self.word2index), len(keep_words) / len(self.word2index)\n",
    "        ))\n",
    "\n",
    "        # Reinitialize dictionaries\n",
    "        self.word2index = {}\n",
    "        self.word2count = {}\n",
    "        self.index2word = {PAD_token: \"PAD\", SOS_token: \"SOS\", EOS_token: \"EOS\"}\n",
    "        self.num_words = 3 # Count default tokens\n",
    "\n",
    "        for word in keep_words:\n",
    "            self.addWord(word)"
   ]
  },
  {
   "cell_type": "code",
   "execution_count": 6,
   "metadata": {},
   "outputs": [
    {
     "name": "stdout",
     "output_type": "stream",
     "text": [
      "Start preparing training data ...\n",
      "Reading lines...\n",
      "Read 221282 sentence pairs\n",
      "Trimmed to 64271 sentence pairs\n",
      "Counting words...\n",
      "Counted words: 18008\n",
      "\n",
      "pairs:\n",
      "['there .', 'where ?']\n",
      "['you have my word . as a gentleman', 'you re sweet .']\n",
      "['hi .', 'looks like things worked out tonight huh ?']\n",
      "['you know chastity ?', 'i believe we share an art instructor']\n",
      "['have fun tonight ?', 'tons']\n",
      "['well no . . .', 'then that s all you had to say .']\n",
      "['then that s all you had to say .', 'but']\n",
      "['but', 'you always been this selfish ?']\n",
      "['do you listen to this crap ?', 'what crap ?']\n",
      "['what good stuff ?', 'the real you .']\n"
     ]
    }
   ],
   "source": [
    "import unicodedata\n",
    "import re \n",
    "\n",
    "MAX_LENGTH = 10  # Maximum sentence length to consider\n",
    "\n",
    "# Turn a Unicode string to plain ASCII, thanks to\n",
    "# https://stackoverflow.com/a/518232/2809427\n",
    "def unicodeToAscii(s):\n",
    "    return ''.join(\n",
    "        c for c in unicodedata.normalize('NFD', s)\n",
    "        if unicodedata.category(c) != 'Mn'\n",
    "    )\n",
    "\n",
    "# Lowercase, trim, and remove non-letter characters\n",
    "def normalizeString(s):\n",
    "    s = unicodeToAscii(s.lower().strip())\n",
    "    s = re.sub(r\"([.!?])\", r\" \\1\", s)\n",
    "    s = re.sub(r\"[^a-zA-Z.!?]+\", r\" \", s)\n",
    "    s = re.sub(r\"\\s+\", r\" \", s).strip()\n",
    "    return s\n",
    "\n",
    "# Read query/response pairs and return a voc object\n",
    "def readVocs(datafile, corpus_name):\n",
    "    print(\"Reading lines...\")\n",
    "    # Read the file and split into lines\n",
    "    lines = open(datafile, encoding='utf-8').\\\n",
    "        read().strip().split('\\n')\n",
    "    # Split every line into pairs and normalize\n",
    "    pairs = [[normalizeString(s) for s in l.split('\\t')] for l in lines]\n",
    "    voc = Voc(corpus_name)\n",
    "    return voc, pairs\n",
    "\n",
    "# Returns True iff both sentences in a pair 'p' are under the MAX_LENGTH threshold\n",
    "def filterPair(p):\n",
    "    # Input sequences need to preserve the last word for EOS token\n",
    "    return len(p[0].split(' ')) < MAX_LENGTH and len(p[1].split(' ')) < MAX_LENGTH\n",
    "\n",
    "# Filter pairs using filterPair condition\n",
    "def filterPairs(pairs):\n",
    "    return [pair for pair in pairs if filterPair(pair)]\n",
    "\n",
    "# Using the functions defined above, return a populated voc object and pairs list\n",
    "def loadPrepareData(corpus, corpus_name, datafile, save_dir):\n",
    "    print(\"Start preparing training data ...\")\n",
    "    voc, pairs = readVocs(datafile, corpus_name)\n",
    "    print(\"Read {!s} sentence pairs\".format(len(pairs)))\n",
    "    pairs = filterPairs(pairs)\n",
    "    print(\"Trimmed to {!s} sentence pairs\".format(len(pairs)))\n",
    "    print(\"Counting words...\")\n",
    "    for pair in pairs:\n",
    "        voc.addSentence(pair[0])\n",
    "        voc.addSentence(pair[1])\n",
    "    print(\"Counted words:\", voc.num_words)\n",
    "    return voc, pairs\n",
    "\n",
    "\n",
    "# Load/Assemble voc and pairs\n",
    "save_dir = os.path.join(\"data\", \"save\")\n",
    "voc, pairs = loadPrepareData(corpus, corpus_name, datafile, save_dir)\n",
    "# Print some pairs to validate\n",
    "print(\"\\npairs:\")\n",
    "for pair in pairs[:10]:\n",
    "    print(pair)"
   ]
  },
  {
   "cell_type": "code",
   "execution_count": 7,
   "metadata": {},
   "outputs": [
    {
     "name": "stdout",
     "output_type": "stream",
     "text": [
      "keep_words 7823 / 18005 = 0.4345\n",
      "Trimmed from 64271 pairs to 53165, 0.8272 of total\n"
     ]
    }
   ],
   "source": [
    "MIN_COUNT = 3    # Minimum word count threshold for trimming\n",
    "\n",
    "def trimRareWords(voc, pairs, MIN_COUNT):\n",
    "    # Trim words used under the MIN_COUNT from the voc\n",
    "    voc.trim(MIN_COUNT)\n",
    "    # Filter out pairs with trimmed words\n",
    "    keep_pairs = []\n",
    "    for pair in pairs:\n",
    "        input_sentence = pair[0]\n",
    "        output_sentence = pair[1]\n",
    "        keep_input = True\n",
    "        keep_output = True\n",
    "        # Check input sentence\n",
    "        for word in input_sentence.split(' '):\n",
    "            if word not in voc.word2index:\n",
    "                keep_input = False\n",
    "                break\n",
    "        # Check output sentence\n",
    "        for word in output_sentence.split(' '):\n",
    "            if word not in voc.word2index:\n",
    "                keep_output = False\n",
    "                break\n",
    "\n",
    "        # Only keep pairs that do not contain trimmed word(s) in their input or output sentence\n",
    "        if keep_input and keep_output:\n",
    "            keep_pairs.append(pair)\n",
    "\n",
    "    print(\"Trimmed from {} pairs to {}, {:.4f} of total\".format(len(pairs), len(keep_pairs), len(keep_pairs) / len(pairs)))\n",
    "    return keep_pairs\n",
    "\n",
    "\n",
    "# Trim voc and pairs\n",
    "pairs = trimRareWords(voc, pairs, MIN_COUNT)"
   ]
  },
  {
   "cell_type": "code",
   "execution_count": 10,
   "metadata": {},
   "outputs": [],
   "source": [
    "import random\n",
    "import itertools\n",
    "\n",
    "def indexesFromSentence(voc, sentence):\n",
    "    return [voc.word2index[word] for word in sentence.split(' ')] + [EOS_token]\n",
    "\n",
    "\n",
    "def zeroPadding(l, fillvalue=PAD_token):\n",
    "    return list(itertools.zip_longest(*l, fillvalue=fillvalue))\n",
    "####zip_longest(*[[あ,い,う,え,お],[か,き,く,け,こ,さ]])→ (あ,か)(い,き)(う,く)(え,け)(お,こ)(pad,さ)　にしてくれる\n",
    "\n",
    "\n",
    "def binaryMatrix(l, value=PAD_token):\n",
    "    m = []\n",
    "    for i, seq in enumerate(l):\n",
    "        m.append([])\n",
    "        for token in seq:\n",
    "            if token == PAD_token:\n",
    "                m[i].append(0)\n",
    "            else:\n",
    "                m[i].append(1)\n",
    "    return m\n",
    "\n",
    "# Returns padded input sequence tensor and lengths\n",
    "def inputVar(l, voc):\n",
    "    indexes_batch = [indexesFromSentence(voc, sentence) for sentence in l]\n",
    "    lengths = torch.tensor([len(indexes) for indexes in indexes_batch])\n",
    "    padList = zeroPadding(indexes_batch)\n",
    "    padVar = torch.LongTensor(padList)\n",
    "    return padVar, lengths\n",
    "\n",
    "# Returns padded target sequence tensor, padding mask, and max target length\n",
    "def outputVar(l, voc):\n",
    "    indexes_batch = [indexesFromSentence(voc, sentence) for sentence in l]\n",
    "    max_target_len = max([len(indexes) for indexes in indexes_batch])\n",
    "    padList = zeroPadding(indexes_batch)\n",
    "    mask = binaryMatrix(padList)\n",
    "    mask = torch.BoolTensor(mask)#Byte?\n",
    "    padVar = torch.LongTensor(padList)\n",
    "    return padVar, mask, max_target_len\n",
    "\n",
    "# Returns all items for a given batch of pairs\n",
    "def batch2TrainData(voc, pair_batch):\n",
    "    pair_batch.sort(key=lambda x: len(x[0].split(\" \")), reverse=True)\n",
    "    input_batch, output_batch = [], []\n",
    "    for pair in pair_batch:\n",
    "        input_batch.append(pair[0])\n",
    "        output_batch.append(pair[1])\n",
    "    inp, lengths = inputVar(input_batch, voc)\n",
    "    output, mask, max_target_len = outputVar(output_batch, voc)\n",
    "    return inp, lengths, output, mask, max_target_len\n",
    "\n",
    "\n",
    "# Example for validation\n",
    "small_batch_size = 5\n",
    "batches = batch2TrainData(voc, [random.choice(pairs) for _ in range(small_batch_size)])\n",
    "input_variable, lengths, target_variable, mask, max_target_len = batches\n",
    "\n",
    "# print(\"input_variable:\", input_variable)\n",
    "# print(\"lengths:\", lengths)\n",
    "# print(\"target_variable:\", target_variable)\n",
    "# print(\"mask:\", mask)\n",
    "# print(\"max_target_len:\", max_target_len)"
   ]
  },
  {
   "cell_type": "code",
   "execution_count": 11,
   "metadata": {},
   "outputs": [
    {
     "name": "stdout",
     "output_type": "stream",
     "text": [
      "Start preparing training data ...\n",
      "Reading lines...\n",
      "Read 221282 sentence pairs\n",
      "Trimmed to 64271 sentence pairs\n",
      "Counting words...\n",
      "Counted words: 18008\n",
      "keep_words 7823 / 18005 = 0.4345\n",
      "Trimmed from 64271 pairs to 53165, 0.8272 of total\n",
      "\n",
      "pairs:\n",
      "['there .', 'where ?']\n",
      "['you have my word . as a gentleman', 'you re sweet .']\n",
      "['hi .', 'looks like things worked out tonight huh ?']\n",
      "['have fun tonight ?', 'tons']\n",
      "['well no . . .', 'then that s all you had to say .']\n",
      "['then that s all you had to say .', 'but']\n",
      "['but', 'you always been this selfish ?']\n",
      "['do you listen to this crap ?', 'what crap ?']\n",
      "['what good stuff ?', 'the real you .']\n",
      "['wow', 'let s go .']\n"
     ]
    }
   ],
   "source": [
    "save_dir = os.path.join(\"data\", \"save\")\n",
    "voc, pairs = loadPrepareData(corpus, corpus_name, datafile, save_dir)\n",
    "pairs = trimRareWords(voc, pairs, MIN_COUNT)\n",
    "# Print some pairs to validate\n",
    "print(\"\\npairs:\")\n",
    "for pair in pairs[:10]:\n",
    "    print(pair)"
   ]
  },
  {
   "cell_type": "code",
   "execution_count": 12,
   "metadata": {},
   "outputs": [
    {
     "data": {
      "text/plain": [
       "list"
      ]
     },
     "execution_count": 12,
     "metadata": {},
     "output_type": "execute_result"
    }
   ],
   "source": [
    "type(pairs)"
   ]
  },
  {
   "cell_type": "code",
   "execution_count": 13,
   "metadata": {},
   "outputs": [],
   "source": [
    "from sklearn.model_selection import train_test_split\n",
    "import numpy as np"
   ]
  },
  {
   "cell_type": "code",
   "execution_count": 24,
   "metadata": {},
   "outputs": [],
   "source": [
    "train_pair,test_pair = train_test_split(pairs ,test_size=0.2)"
   ]
  },
  {
   "cell_type": "code",
   "execution_count": 26,
   "metadata": {},
   "outputs": [
    {
     "name": "stdout",
     "output_type": "stream",
     "text": [
      "42532 10633\n"
     ]
    }
   ],
   "source": [
    "print(len(train_pair),len(test_pair))"
   ]
  },
  {
   "cell_type": "code",
   "execution_count": null,
   "metadata": {},
   "outputs": [],
   "source": [
    "import torch.nn as nn\n",
    "\n",
    "\n",
    "class EncoderRNN(nn.Module):\n",
    "    def __init__(self, hidden_size, embedding, n_layers=1, dropout=0):\n",
    "        super(EncoderRNN, self).__init__()\n",
    "        self.n_layers = n_layers\n",
    "        self.hidden_size = hidden_size\n",
    "        self.embedding = embedding\n",
    "        # Initialize GRU; the input_size and hidden_size params are both set to 'hidden_size'\n",
    "        #   because our input size is a word embedding with number of features == hidden_size\n",
    "        self.gru = nn.GRU(\n",
    "            hidden_size,\n",
    "            hidden_size,\n",
    "            n_layers,\n",
    "            dropout=(0 if n_layers == 1 else dropout),\n",
    "            bidirectional=True,\n",
    "        )\n",
    "\n",
    "    def forward(self, input_seq, input_lengths, hidden=None):"
   ]
  },
  {
   "cell_type": "code",
   "execution_count": 153,
   "metadata": {},
   "outputs": [],
   "source": [
    "import torch.nn as nn\n",
    "import torch.nn.functional as F\n",
    "\n",
    "class net(nn.Module):\n",
    "    def __init__(self):\n",
    "        super(net,self).__init__()\n",
    "        #self.fc1 = nn.Linear(16,8)\n",
    "        self.fc2 = nn.Linear(8,4)\n",
    "        self.dropout = nn.Dropout(p=0.0)\n",
    "        self.fc3 = nn.Linear(4,1)\n",
    "    \n",
    "    def forward(self, x):\n",
    "        #x = F.relu(self.fc1(x))\n",
    "        x = F.leaky_relu(self.fc2(x))\n",
    "        print(x)\n",
    "        x = self.dropout(x)\n",
    "        print(x)\n",
    "        x = self.fc3(x)\n",
    "        \n",
    "        return x\n",
    "        "
   ]
  },
  {
   "cell_type": "code",
   "execution_count": 154,
   "metadata": {},
   "outputs": [],
   "source": [
    "import copy\n",
    "model1 = net()\n",
    "model2 = copy.deepcopy(model1)"
   ]
  },
  {
   "cell_type": "code",
   "execution_count": 155,
   "metadata": {},
   "outputs": [
    {
     "name": "stdout",
     "output_type": "stream",
     "text": [
      "[Parameter containing:\n",
      "tensor([[ 0.0970, -0.1958, -0.2963,  0.2747, -0.1513,  0.0121, -0.0785, -0.0550],\n",
      "        [ 0.1266, -0.2362,  0.2394,  0.2484,  0.1562,  0.3189,  0.2477,  0.2006],\n",
      "        [ 0.2438,  0.2632, -0.2070, -0.0879, -0.1918, -0.3018,  0.1680, -0.2655],\n",
      "        [-0.2098, -0.1241,  0.0870,  0.1772, -0.2751,  0.1668,  0.1980, -0.1823]],\n",
      "       requires_grad=True), Parameter containing:\n",
      "tensor([-0.1614,  0.2714,  0.1185, -0.1376], requires_grad=True), Parameter containing:\n",
      "tensor([[-0.4403,  0.4773, -0.1715,  0.4171]], requires_grad=True), Parameter containing:\n",
      "tensor([-0.2298], requires_grad=True)]\n",
      "\n",
      "[Parameter containing:\n",
      "tensor([[ 0.0970, -0.1958, -0.2963,  0.2747, -0.1513,  0.0121, -0.0785, -0.0550],\n",
      "        [ 0.1266, -0.2362,  0.2394,  0.2484,  0.1562,  0.3189,  0.2477,  0.2006],\n",
      "        [ 0.2438,  0.2632, -0.2070, -0.0879, -0.1918, -0.3018,  0.1680, -0.2655],\n",
      "        [-0.2098, -0.1241,  0.0870,  0.1772, -0.2751,  0.1668,  0.1980, -0.1823]],\n",
      "       requires_grad=True), Parameter containing:\n",
      "tensor([-0.1614,  0.2714,  0.1185, -0.1376], requires_grad=True), Parameter containing:\n",
      "tensor([[-0.4403,  0.4773, -0.1715,  0.4171]], requires_grad=True), Parameter containing:\n",
      "tensor([-0.2298], requires_grad=True)]\n"
     ]
    }
   ],
   "source": [
    "print(list(model1.parameters()) )\n",
    "print()\n",
    "print(list(model2.parameters()) )"
   ]
  },
  {
   "cell_type": "code",
   "execution_count": 156,
   "metadata": {},
   "outputs": [],
   "source": [
    "import torch\n",
    "\n",
    "x = torch.FloatTensor([[1,2,3,4,5,6,7,9]])\n",
    "target = torch.FloatTensor([[0.5]])"
   ]
  },
  {
   "cell_type": "code",
   "execution_count": 157,
   "metadata": {},
   "outputs": [
    {
     "name": "stdout",
     "output_type": "stream",
     "text": [
      "tensor([[-1.9746e-02,  7.8712e+00, -4.0677e-02, -2.5516e-03]],\n",
      "       grad_fn=<LeakyReluBackward0>)\n",
      "tensor([[-1.9746e-02,  7.8712e+00, -4.0677e-02, -2.5516e-03]],\n",
      "       grad_fn=<LeakyReluBackward0>)\n",
      "tensor([[3.5420]], grad_fn=<AddmmBackward>)\n"
     ]
    },
    {
     "data": {
      "text/plain": [
       "net(\n",
       "  (fc2): Linear(in_features=8, out_features=4, bias=True)\n",
       "  (dropout): Dropout(p=0.0, inplace=False)\n",
       "  (fc3): Linear(in_features=4, out_features=1, bias=True)\n",
       ")"
      ]
     },
     "execution_count": 157,
     "metadata": {},
     "output_type": "execute_result"
    }
   ],
   "source": [
    "import torch.optim as optim\n",
    "output = model1(x)\n",
    "print(output)\n",
    "criterion = nn.MSELoss()\n",
    "opt = optim.SGD(model1.parameters(), lr=0.01)\n",
    "model1.train()"
   ]
  },
  {
   "cell_type": "code",
   "execution_count": 158,
   "metadata": {},
   "outputs": [
    {
     "name": "stdout",
     "output_type": "stream",
     "text": [
      "[Parameter containing:\n",
      "tensor([[ 0.0970, -0.1958, -0.2963,  0.2747, -0.1513,  0.0121, -0.0785, -0.0550],\n",
      "        [ 0.1266, -0.2362,  0.2394,  0.2484,  0.1562,  0.3189,  0.2477,  0.2006],\n",
      "        [ 0.2438,  0.2632, -0.2070, -0.0879, -0.1918, -0.3018,  0.1680, -0.2655],\n",
      "        [-0.2098, -0.1241,  0.0870,  0.1772, -0.2751,  0.1668,  0.1980, -0.1823]],\n",
      "       requires_grad=True), Parameter containing:\n",
      "tensor([-0.1614,  0.2714,  0.1185, -0.1376], requires_grad=True), Parameter containing:\n",
      "tensor([[-0.4403,  0.4773, -0.1715,  0.4171]], requires_grad=True), Parameter containing:\n",
      "tensor([-0.2298], requires_grad=True)]\n",
      "\n",
      "tensor(9.2537, grad_fn=<MseLossBackward>)\n",
      "\n",
      "[Parameter containing:\n",
      "tensor([[ 0.0973, -0.1953, -0.2955,  0.2758, -0.1500,  0.0137, -0.0766, -0.0526],\n",
      "        [ 0.0975, -0.2942,  0.1523,  0.1322,  0.0110,  0.1447,  0.0444, -0.0608],\n",
      "        [ 0.2439,  0.2635, -0.2067, -0.0875, -0.1913, -0.3012,  0.1687, -0.2646],\n",
      "        [-0.2100, -0.1246,  0.0862,  0.1762, -0.2764,  0.1653,  0.1962, -0.1846]],\n",
      "       requires_grad=True), Parameter containing:\n",
      "tensor([-0.1611,  0.2423,  0.1186, -0.1378], requires_grad=True), Parameter containing:\n",
      "tensor([[-0.4391, -0.0015, -0.1690,  0.4172]], requires_grad=True), Parameter containing:\n",
      "tensor([-0.2906], requires_grad=True)]\n"
     ]
    }
   ],
   "source": [
    "model1.zero_grad() \n",
    "print(list(model1.parameters()) )\n",
    "\n",
    "loss = criterion(output, target)\n",
    "print()\n",
    "print(loss)\n",
    "print()\n",
    "loss.backward()\n",
    "opt.step()\n",
    "opt.zero_grad()\n",
    "print(list(model1.parameters()) )"
   ]
  },
  {
   "cell_type": "code",
   "execution_count": 160,
   "metadata": {},
   "outputs": [
    {
     "name": "stdout",
     "output_type": "stream",
     "text": [
      "tensor([[-1.9746e-02,  7.8712e+00, -4.0677e-02, -2.5516e-03]],\n",
      "       grad_fn=<LeakyReluBackward0>)\n",
      "tensor([[-1.9746e-02,  7.8712e+00, -4.0677e-02, -2.5516e-03]],\n",
      "       grad_fn=<LeakyReluBackward0>)\n",
      "tensor([[3.5420]], grad_fn=<AddmmBackward>)\n",
      "tensor([[-1.9746e-02,  7.8712e+00, -4.0677e-02, -2.5516e-03]])\n",
      "tensor([[-1.9746e-02,  7.8712e+00, -4.0677e-02, -2.5516e-03]])\n",
      "tensor([[3.5420]])\n",
      "tensor([[7.0840]], grad_fn=<AddBackward0>)\n",
      "tensor([[4.0420]])\n"
     ]
    }
   ],
   "source": [
    "model2.train()\n",
    "output = model2(x)\n",
    "print(output)\n",
    "criterion = nn.MSELoss()\n",
    "opt = optim.SGD(model2.parameters(), lr=0.01)\n",
    "\n",
    "with torch.no_grad():\n",
    "    model2.eval()\n",
    "    output1 = model2(x)\n",
    "    print(output1)\n",
    "up = output1.item()\n",
    "output2 = output1+output\n",
    "print(output2)\n",
    "target = target + up\n",
    "print(target)"
   ]
  },
  {
   "cell_type": "code",
   "execution_count": 161,
   "metadata": {},
   "outputs": [
    {
     "name": "stdout",
     "output_type": "stream",
     "text": [
      "[Parameter containing:\n",
      "tensor([[ 0.0970, -0.1958, -0.2963,  0.2747, -0.1513,  0.0121, -0.0785, -0.0550],\n",
      "        [ 0.1266, -0.2362,  0.2394,  0.2484,  0.1562,  0.3189,  0.2477,  0.2006],\n",
      "        [ 0.2438,  0.2632, -0.2070, -0.0879, -0.1918, -0.3018,  0.1680, -0.2655],\n",
      "        [-0.2098, -0.1241,  0.0870,  0.1772, -0.2751,  0.1668,  0.1980, -0.1823]],\n",
      "       requires_grad=True), Parameter containing:\n",
      "tensor([-0.1614,  0.2714,  0.1185, -0.1376], requires_grad=True), Parameter containing:\n",
      "tensor([[-0.4403,  0.4773, -0.1715,  0.4171]], requires_grad=True), Parameter containing:\n",
      "tensor([-0.2298], requires_grad=True)]\n",
      "\n",
      "tensor(9.2537, grad_fn=<MseLossBackward>)\n",
      "\n",
      "[Parameter containing:\n",
      "tensor([[ 0.0973, -0.1953, -0.2955,  0.2758, -0.1500,  0.0137, -0.0766, -0.0526],\n",
      "        [ 0.0975, -0.2942,  0.1523,  0.1322,  0.0110,  0.1447,  0.0444, -0.0608],\n",
      "        [ 0.2439,  0.2635, -0.2067, -0.0875, -0.1913, -0.3012,  0.1687, -0.2646],\n",
      "        [-0.2100, -0.1246,  0.0862,  0.1762, -0.2764,  0.1653,  0.1962, -0.1846]],\n",
      "       requires_grad=True), Parameter containing:\n",
      "tensor([-0.1611,  0.2423,  0.1186, -0.1378], requires_grad=True), Parameter containing:\n",
      "tensor([[-0.4391, -0.0015, -0.1690,  0.4172]], requires_grad=True), Parameter containing:\n",
      "tensor([-0.2906], requires_grad=True)]\n"
     ]
    }
   ],
   "source": [
    "model2.zero_grad() \n",
    "print(list(model2.parameters()) )\n",
    "\n",
    "loss = criterion(output2, target)\n",
    "print()\n",
    "print(loss)\n",
    "print()\n",
    "loss.backward()\n",
    "opt.step()\n",
    "opt.zero_grad()\n",
    "print(list(model2.parameters()) )"
   ]
  },
  {
   "cell_type": "code",
   "execution_count": 164,
   "metadata": {},
   "outputs": [],
   "source": [
    "#print(list(model2.parameters()) )"
   ]
  },
  {
   "cell_type": "code",
   "execution_count": 165,
   "metadata": {},
   "outputs": [],
   "source": [
    "#print(list(model1.parameters()) )"
   ]
  },
  {
   "cell_type": "code",
   "execution_count": 172,
   "metadata": {},
   "outputs": [
    {
     "name": "stdout",
     "output_type": "stream",
     "text": [
      "tensor(2.2222)\n"
     ]
    }
   ],
   "source": [
    "xx = torch.FloatTensor([[[1,1,1,1],[2,2,2,2],[3,3,3,3]],\n",
    "                        [[1,1,1,1],[2,2,2,2],[3,3,3,3]],\n",
    "                        [[1,1,1,1],[2,2,2,2],[3,3,3,3]]])\n",
    "target = torch.FloatTensor([[[3,3,3,3],[4,4,4,4],[6,6,6,6]],\n",
    "                            [[2,2,2,2],[3,3,3,3],[4,4,4,4]],\n",
    "                            [[1,1,1,1],[2,2,2,2],[3,3,3,3]]])\n",
    "mse = F.mse_loss(xx, target,reduction='mean')\n",
    "print(mse)"
   ]
  },
  {
   "cell_type": "code",
   "execution_count": null,
   "metadata": {},
   "outputs": [],
   "source": [
    "nn.MSELoss()"
   ]
  }
 ],
 "metadata": {
  "kernelspec": {
   "display_name": "py37-mikami",
   "language": "python",
   "name": "py37-mikami"
  },
  "language_info": {
   "codemirror_mode": {
    "name": "ipython",
    "version": 3
   },
   "file_extension": ".py",
   "mimetype": "text/x-python",
   "name": "python",
   "nbconvert_exporter": "python",
   "pygments_lexer": "ipython3",
   "version": "3.7.3"
  }
 },
 "nbformat": 4,
 "nbformat_minor": 4
}
